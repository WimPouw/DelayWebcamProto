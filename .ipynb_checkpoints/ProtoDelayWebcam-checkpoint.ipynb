{
 "cells": [
  {
   "cell_type": "markdown",
   "id": "5b560809",
   "metadata": {},
   "source": [
    "# Simple prototype of delaying a webcam feed with so many frames\n",
    "Questions: Wim Pouw (wim.pouw@donders.ru.nl)\n",
    "\n",
    "Below is some code using OpenCV that takes in the feed of a webcam, stores x amount of frames in a buffer, and after x amount of frames have past, projects the past frame of x amount of frames back onto your screen. In other words, it delays your webcame feed with x amount of frames. \n",
    "\n",
    "### What if we want to delay with variable amount in milliseconds?\n",
    "We would need to know the framerate of the webcam we are using. Say we are sampling at 60 frames per second, and we need a delay of 0.5 seconds, we simply set the delay at 30 frames. Or if there is a variable framerate, we could ask how long it takes to go from frame to frame for some frames in the buffer (and use this to set our delay). Note of course, if we know the framerate, we could set the amount of delay in milliseconds, and then translate that to the number of frames (100 milliseconds = round((fps / 1000)*100) = x frames)\n",
    "\n",
    "### What if we want to program a delay at a particular time\n",
    "We can have some code that that takes in input from the keyboard, and program it so that we have a couple of delays associated with unique keystrokes. Or we can have a timer, that determines what delay gets activated at what time.\n",
    "\n"
   ]
  },
  {
   "cell_type": "code",
   "execution_count": null,
   "id": "361ab2c2",
   "metadata": {},
   "outputs": [],
   "source": [
    "import cv2\n",
    "\n",
    "#delay in frames\n",
    "delay = int(input())\n",
    "print('delay set at:' + str(delay))\n",
    "\n",
    "# Open a new window to display the webcam feed\n",
    "cv2.namedWindow(\"Webcam Feed\", cv2.WINDOW_NORMAL)\n",
    "\n",
    "# Start the webcam feed\n",
    "cap = cv2.VideoCapture(0)\n",
    "\n",
    "framebuffer = []\n",
    "\n",
    "# Loop until the user closes the window with\n",
    "framecounter = 0\n",
    "while True:\n",
    "    # Read a frame from the webcam\n",
    "    ret, frame = cap.read()\n",
    "    framecounter += 1\n",
    "    framebuffer.append(frame)\n",
    "    \n",
    "    if framecounter > (delay):\n",
    "        cv2.imshow(\"webcam feed with x delay\", framebuffer[framecounter-delay])\n",
    "    \n",
    "    # Add a delay of 100ms\n",
    "    if cv2.waitKey(1) & 0xFF == ord('q'):\n",
    "        break\n",
    "\n",
    "# Release the webcam and close the window\n",
    "cap.release()\n",
    "cv2.destroyAllWindows()"
   ]
  }
 ],
 "metadata": {
  "kernelspec": {
   "display_name": "Python 3 (ipykernel)",
   "language": "python",
   "name": "python3"
  },
  "language_info": {
   "codemirror_mode": {
    "name": "ipython",
    "version": 3
   },
   "file_extension": ".py",
   "mimetype": "text/x-python",
   "name": "python",
   "nbconvert_exporter": "python",
   "pygments_lexer": "ipython3",
   "version": "3.9.13"
  }
 },
 "nbformat": 4,
 "nbformat_minor": 5
}
